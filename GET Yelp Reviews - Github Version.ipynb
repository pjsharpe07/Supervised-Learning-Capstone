{
 "cells": [
  {
   "cell_type": "markdown",
   "metadata": {},
   "source": [
    "### Yelp data via their API\n",
    "\n",
    "This data was collected from the yelp fusion api. You can find more information and how to do this yourself [here](https://www.yelp.com/developers/documentation/v3)\n",
    "\n",
    "I followed [this great tutorial](https://python.gotrained.com/yelp-fusion-api-tutorial/). Good luck!\n",
    "\n",
    "You will need to perform two different requests:\n",
    "\n",
    "1) Pull in the information from yelp needed for the reviews\n",
    "2) Use the information from the first set to request the text reviews"
   ]
  },
  {
   "cell_type": "code",
   "execution_count": 1,
   "metadata": {},
   "outputs": [],
   "source": [
    "#for scraping\n",
    "import requests\n",
    "import json\n",
    "\n",
    "#for tabular data\n",
    "import pandas as pd\n",
    "import numpy as np"
   ]
  },
  {
   "cell_type": "markdown",
   "metadata": {},
   "source": [
    "Please note! The cell below has the api_key and headers information. This is not a part of this particular notebook so as to protect the yelp api key used.\n",
    "\n",
    "Obtaining your own API key is relatively simple, I recommend following the tutorial mentioned above."
   ]
  },
  {
   "cell_type": "code",
   "execution_count": 2,
   "metadata": {},
   "outputs": [],
   "source": [
    "#prep our dataframe by removing non-needed columns\n",
    "df = pd.read_csv('restaurant-scores-lives-standard.csv')\n",
    "df = df.drop(columns=['business_id', 'business_phone_number', 'business_city', 'business_state', 'business_location', 'inspection_id'])"
   ]
  },
  {
   "cell_type": "code",
   "execution_count": 5,
   "metadata": {},
   "outputs": [],
   "source": [
    "#drop null values\n",
    "df.dropna(inplace=True)"
   ]
  },
  {
   "cell_type": "code",
   "execution_count": 7,
   "metadata": {},
   "outputs": [],
   "source": [
    "#create a list of all unique businesses to use for the request\n",
    "business_names = df.business_name.unique().tolist()"
   ]
  },
  {
   "cell_type": "markdown",
   "metadata": {},
   "source": [
    "### Step 1: Create our businesses df with basic information (no text reviews yet)."
   ]
  },
  {
   "cell_type": "markdown",
   "metadata": {},
   "source": [
    "This call will create the necessary information we need to pull in the reviews."
   ]
  },
  {
   "cell_type": "code",
   "execution_count": 25,
   "metadata": {
    "scrolled": false
   },
   "outputs": [],
   "source": [
    "url = 'https://api.yelp.com/v3/businesses/search'\n",
    "columns=['name', 'id', 'rating', 'price']\n",
    "#set up a first dud row\n",
    "business_df = pd.DataFrame([[np.nan, np.nan, np.nan, np.nan]], columns=columns)\n",
    "\n",
    "for name in business_names:\n",
    "    #get our parameters for each value\n",
    "    location = df.loc[df.business_name == name]['business_address'].reset_index()['business_address'][0]\n",
    "    latitude = df.loc[df.business_name == name]['business_latitude'].reset_index()['business_latitude'][0]\n",
    "    longitude = df.loc[df.business_name == name]['business_longitude'].reset_index()['business_longitude'][0]\n",
    "    #set up our calls and make the request\n",
    "    params = {'term' : name, 'location' : location, 'latitude' : latitude, 'longitude' : longitude}\n",
    "    req = requests.get(url, params=params, headers=headers)\n",
    "    #send our request\n",
    "    #we will add each  new entry to temp, then add temp to our running df\n",
    "    temp = []\n",
    "    #you will get a status code if you're over your request limit\n",
    "    if (req.status_code == 200):\n",
    "        parsed = json.loads(req.text)\n",
    "        businesses = parsed['businesses']\n",
    "        #append each value to our 'temp' list\n",
    "        try:\n",
    "            temp.append(businesses[0]['name'])\n",
    "        except:\n",
    "            temp.append(np.nan)\n",
    "        try:\n",
    "            temp.append(businesses[0]['id'])\n",
    "        except:\n",
    "            temp.append(np.nan)\n",
    "        try:\n",
    "            temp.append(businesses[0]['rating'])\n",
    "        except:\n",
    "            temp.append(np.nan)\n",
    "        try:\n",
    "            temp.append(businesses[0]['price'])\n",
    "        except:\n",
    "            temp.append(np.nan)\n",
    "    \n",
    "    #create a temp_df w/one record, then append it to the bottom of our running df\n",
    "    try:\n",
    "        temp_df = pd.DataFrame([temp], columns=columns)\n",
    "    except:\n",
    "        temp = [np.nan. np.nan, np.nan, np.nan]\n",
    "        temp_df = pd.DataFrame([temp], columns=columns)\n",
    "        \n",
    "    business_df = pd.concat([business_df, temp_df])"
   ]
  },
  {
   "cell_type": "code",
   "execution_count": 26,
   "metadata": {},
   "outputs": [
    {
     "data": {
      "text/html": [
       "<div>\n",
       "<style scoped>\n",
       "    .dataframe tbody tr th:only-of-type {\n",
       "        vertical-align: middle;\n",
       "    }\n",
       "\n",
       "    .dataframe tbody tr th {\n",
       "        vertical-align: top;\n",
       "    }\n",
       "\n",
       "    .dataframe thead th {\n",
       "        text-align: right;\n",
       "    }\n",
       "</style>\n",
       "<table border=\"1\" class=\"dataframe\">\n",
       "  <thead>\n",
       "    <tr style=\"text-align: right;\">\n",
       "      <th></th>\n",
       "      <th>name</th>\n",
       "      <th>id</th>\n",
       "      <th>rating</th>\n",
       "      <th>price</th>\n",
       "    </tr>\n",
       "  </thead>\n",
       "  <tbody>\n",
       "    <tr>\n",
       "      <th>0</th>\n",
       "      <td>NaN</td>\n",
       "      <td>NaN</td>\n",
       "      <td>NaN</td>\n",
       "      <td>NaN</td>\n",
       "    </tr>\n",
       "    <tr>\n",
       "      <th>0</th>\n",
       "      <td>Rainbow Grocery</td>\n",
       "      <td>5NvXIkNdCCqUb235WVfMJg</td>\n",
       "      <td>4.0</td>\n",
       "      <td>$$</td>\n",
       "    </tr>\n",
       "    <tr>\n",
       "      <th>0</th>\n",
       "      <td>Parada 22</td>\n",
       "      <td>TlBFKt2N2eSEBpN-UZmDBw</td>\n",
       "      <td>4.0</td>\n",
       "      <td>$$</td>\n",
       "    </tr>\n",
       "    <tr>\n",
       "      <th>0</th>\n",
       "      <td>Newtree</td>\n",
       "      <td>thrAX79eegx1Of82TCJhrA</td>\n",
       "      <td>4.0</td>\n",
       "      <td>$$</td>\n",
       "    </tr>\n",
       "    <tr>\n",
       "      <th>0</th>\n",
       "      <td>Starbucks</td>\n",
       "      <td>C36BK5luxi-8apVMMhsizQ</td>\n",
       "      <td>3.5</td>\n",
       "      <td>$</td>\n",
       "    </tr>\n",
       "    <tr>\n",
       "      <th>0</th>\n",
       "      <td>Dojima-Ann</td>\n",
       "      <td>cseyjQ0XIp6dwC0_TcaMOg</td>\n",
       "      <td>3.5</td>\n",
       "      <td>$$</td>\n",
       "    </tr>\n",
       "    <tr>\n",
       "      <th>0</th>\n",
       "      <td>Piccino</td>\n",
       "      <td>i2VhtC1JkV_sZOA4urd1ng</td>\n",
       "      <td>4.0</td>\n",
       "      <td>$$</td>\n",
       "    </tr>\n",
       "    <tr>\n",
       "      <th>0</th>\n",
       "      <td>Eric's Restaurant</td>\n",
       "      <td>Ux_bs6eZ7WqIsLepTw1uBw</td>\n",
       "      <td>3.5</td>\n",
       "      <td>$$</td>\n",
       "    </tr>\n",
       "    <tr>\n",
       "      <th>0</th>\n",
       "      <td>Taiwan Restaurant</td>\n",
       "      <td>eu3UCrfFkTF73F0idXeJ5Q</td>\n",
       "      <td>3.5</td>\n",
       "      <td>$$</td>\n",
       "    </tr>\n",
       "    <tr>\n",
       "      <th>0</th>\n",
       "      <td>Java Beach at the Zoo</td>\n",
       "      <td>iRmdKzcbdFLIp3s9e4xrHA</td>\n",
       "      <td>4.0</td>\n",
       "      <td>$</td>\n",
       "    </tr>\n",
       "  </tbody>\n",
       "</table>\n",
       "</div>"
      ],
      "text/plain": [
       "                    name                      id  rating price\n",
       "0                    NaN                     NaN     NaN   NaN\n",
       "0        Rainbow Grocery  5NvXIkNdCCqUb235WVfMJg     4.0    $$\n",
       "0              Parada 22  TlBFKt2N2eSEBpN-UZmDBw     4.0    $$\n",
       "0                Newtree  thrAX79eegx1Of82TCJhrA     4.0    $$\n",
       "0              Starbucks  C36BK5luxi-8apVMMhsizQ     3.5     $\n",
       "0             Dojima-Ann  cseyjQ0XIp6dwC0_TcaMOg     3.5    $$\n",
       "0                Piccino  i2VhtC1JkV_sZOA4urd1ng     4.0    $$\n",
       "0      Eric's Restaurant  Ux_bs6eZ7WqIsLepTw1uBw     3.5    $$\n",
       "0      Taiwan Restaurant  eu3UCrfFkTF73F0idXeJ5Q     3.5    $$\n",
       "0  Java Beach at the Zoo  iRmdKzcbdFLIp3s9e4xrHA     4.0     $"
      ]
     },
     "execution_count": 26,
     "metadata": {},
     "output_type": "execute_result"
    }
   ],
   "source": [
    "business_df.head(10)"
   ]
  },
  {
   "cell_type": "markdown",
   "metadata": {},
   "source": [
    "This looks good. Let's save it for our next request calls."
   ]
  },
  {
   "cell_type": "code",
   "execution_count": 4,
   "metadata": {},
   "outputs": [
    {
     "ename": "NameError",
     "evalue": "name 'business_df' is not defined",
     "output_type": "error",
     "traceback": [
      "\u001b[1;31m---------------------------------------------------------------------------\u001b[0m",
      "\u001b[1;31mNameError\u001b[0m                                 Traceback (most recent call last)",
      "\u001b[1;32m<ipython-input-4-c6bc11a0baa7>\u001b[0m in \u001b[0;36m<module>\u001b[1;34m\u001b[0m\n\u001b[1;32m----> 1\u001b[1;33m \u001b[0mbusiness_df\u001b[0m\u001b[1;33m.\u001b[0m\u001b[0mto_csv\u001b[0m\u001b[1;33m(\u001b[0m\u001b[1;34m'businesses.csv'\u001b[0m\u001b[1;33m,\u001b[0m \u001b[0mindex\u001b[0m\u001b[1;33m=\u001b[0m\u001b[1;32mFalse\u001b[0m\u001b[1;33m)\u001b[0m\u001b[1;33m\u001b[0m\u001b[1;33m\u001b[0m\u001b[0m\n\u001b[0m",
      "\u001b[1;31mNameError\u001b[0m: name 'business_df' is not defined"
     ]
    }
   ],
   "source": [
    "#don't run again!\n",
    "business_df.to_csv('businesses.csv', index=False)"
   ]
  },
  {
   "cell_type": "markdown",
   "metadata": {},
   "source": [
    "## Step 2: Getting the text reviews and average sentiment scores"
   ]
  },
  {
   "cell_type": "code",
   "execution_count": 5,
   "metadata": {},
   "outputs": [],
   "source": [
    "#load it\n",
    "business_df = pd.read_csv('businesses.csv')"
   ]
  },
  {
   "cell_type": "code",
   "execution_count": 6,
   "metadata": {},
   "outputs": [],
   "source": [
    "#drop all of our bad requests from before\n",
    "business_df.dropna(how='all', inplace=True)"
   ]
  },
  {
   "cell_type": "code",
   "execution_count": 11,
   "metadata": {},
   "outputs": [],
   "source": [
    "#NLP package for our sentiment analysis\n",
    "from textblob import TextBlob\n",
    "#each business id is what the api needs to return text reviews\n",
    "business_ids = business_df['id'].tolist()"
   ]
  },
  {
   "cell_type": "markdown",
   "metadata": {},
   "source": [
    "Each business will pull the 3 most recent reviews (assuming there are that many). We will average the ratings from each review and the sentiment and create new features for these two."
   ]
  },
  {
   "cell_type": "code",
   "execution_count": 12,
   "metadata": {},
   "outputs": [],
   "source": [
    "#lists to append to our business_df\n",
    "average_rating = []\n",
    "average_sentiment = []\n",
    "\n",
    "review_ids = []\n",
    "review_text = []\n",
    "\n",
    "#now time to get some reviews!\n",
    "for id in business_ids:\n",
    "    #lists to average and append\n",
    "    ratings = []\n",
    "    sentiment = []\n",
    "    \n",
    "    #make request and parse data\n",
    "    url = 'https://api.yelp.com/v3/businesses/{}/reviews'.format(id)\n",
    "    req = requests.get(url, headers=headers)\n",
    "    parsed = json.loads(req.text)\n",
    "    reviews = parsed[\"reviews\"]\n",
    "    \n",
    "    #check if our request is good, then loop through reviews\n",
    "    if (req.status_code == 200):\n",
    "        for i in range(len(reviews)):\n",
    "            #append ratings and reviews\n",
    "            ratings.append(reviews[i]['rating'])\n",
    "            \n",
    "            #each individual review\n",
    "            testimonial = TextBlob(reviews[i]['text'])\n",
    "            #sentiment of individual review\n",
    "            sentiment.append(testimonial.sentiment.polarity)\n",
    "            \n",
    "            #we'll create a 3rd dataset to store each review\n",
    "            review_ids.append(reviews[i]['id'])\n",
    "            review_text.append(reviews[i]['text'])\n",
    "            \n",
    "    #add our averages to our lists\n",
    "    average_rating.append(sum(ratings) / len(ratings))\n",
    "    average_sentiment.append(sum(sentiment) / len(sentiment))"
   ]
  },
  {
   "cell_type": "code",
   "execution_count": 13,
   "metadata": {},
   "outputs": [],
   "source": [
    "business_df['review_rating'] = average_rating\n",
    "business_df['review_sentiment'] = average_sentiment"
   ]
  },
  {
   "cell_type": "markdown",
   "metadata": {},
   "source": [
    "This will be our df to merge and use with our models."
   ]
  },
  {
   "cell_type": "code",
   "execution_count": 14,
   "metadata": {},
   "outputs": [],
   "source": [
    "business_df.to_csv('yelp_business.csv', index=False)"
   ]
  },
  {
   "cell_type": "code",
   "execution_count": 15,
   "metadata": {},
   "outputs": [
    {
     "data": {
      "text/html": [
       "<div>\n",
       "<style scoped>\n",
       "    .dataframe tbody tr th:only-of-type {\n",
       "        vertical-align: middle;\n",
       "    }\n",
       "\n",
       "    .dataframe tbody tr th {\n",
       "        vertical-align: top;\n",
       "    }\n",
       "\n",
       "    .dataframe thead th {\n",
       "        text-align: right;\n",
       "    }\n",
       "</style>\n",
       "<table border=\"1\" class=\"dataframe\">\n",
       "  <thead>\n",
       "    <tr style=\"text-align: right;\">\n",
       "      <th></th>\n",
       "      <th>name</th>\n",
       "      <th>id</th>\n",
       "      <th>rating</th>\n",
       "      <th>price</th>\n",
       "      <th>review_rating</th>\n",
       "      <th>review_sentiment</th>\n",
       "    </tr>\n",
       "  </thead>\n",
       "  <tbody>\n",
       "    <tr>\n",
       "      <th>1</th>\n",
       "      <td>Rainbow Grocery</td>\n",
       "      <td>5NvXIkNdCCqUb235WVfMJg</td>\n",
       "      <td>4.0</td>\n",
       "      <td>$$</td>\n",
       "      <td>3.666667</td>\n",
       "      <td>0.080208</td>\n",
       "    </tr>\n",
       "    <tr>\n",
       "      <th>2</th>\n",
       "      <td>Parada 22</td>\n",
       "      <td>TlBFKt2N2eSEBpN-UZmDBw</td>\n",
       "      <td>4.0</td>\n",
       "      <td>$$</td>\n",
       "      <td>3.333333</td>\n",
       "      <td>0.106349</td>\n",
       "    </tr>\n",
       "    <tr>\n",
       "      <th>3</th>\n",
       "      <td>Newtree</td>\n",
       "      <td>thrAX79eegx1Of82TCJhrA</td>\n",
       "      <td>4.0</td>\n",
       "      <td>$$</td>\n",
       "      <td>4.666667</td>\n",
       "      <td>0.355787</td>\n",
       "    </tr>\n",
       "    <tr>\n",
       "      <th>4</th>\n",
       "      <td>Starbucks</td>\n",
       "      <td>C36BK5luxi-8apVMMhsizQ</td>\n",
       "      <td>3.5</td>\n",
       "      <td>$</td>\n",
       "      <td>3.000000</td>\n",
       "      <td>0.270310</td>\n",
       "    </tr>\n",
       "    <tr>\n",
       "      <th>5</th>\n",
       "      <td>Dojima-Ann</td>\n",
       "      <td>cseyjQ0XIp6dwC0_TcaMOg</td>\n",
       "      <td>3.5</td>\n",
       "      <td>$$</td>\n",
       "      <td>3.666667</td>\n",
       "      <td>0.021528</td>\n",
       "    </tr>\n",
       "  </tbody>\n",
       "</table>\n",
       "</div>"
      ],
      "text/plain": [
       "              name                      id  rating price  review_rating  \\\n",
       "1  Rainbow Grocery  5NvXIkNdCCqUb235WVfMJg     4.0    $$       3.666667   \n",
       "2        Parada 22  TlBFKt2N2eSEBpN-UZmDBw     4.0    $$       3.333333   \n",
       "3          Newtree  thrAX79eegx1Of82TCJhrA     4.0    $$       4.666667   \n",
       "4        Starbucks  C36BK5luxi-8apVMMhsizQ     3.5     $       3.000000   \n",
       "5       Dojima-Ann  cseyjQ0XIp6dwC0_TcaMOg     3.5    $$       3.666667   \n",
       "\n",
       "   review_sentiment  \n",
       "1          0.080208  \n",
       "2          0.106349  \n",
       "3          0.355787  \n",
       "4          0.270310  \n",
       "5          0.021528  "
      ]
     },
     "execution_count": 15,
     "metadata": {},
     "output_type": "execute_result"
    }
   ],
   "source": [
    "business_df.head()"
   ]
  },
  {
   "cell_type": "markdown",
   "metadata": {},
   "source": [
    "## Step 3: Store each individual text review\n",
    "\n",
    "Note, this is not necessary, but is recommended to spot check your requests for accuracy."
   ]
  },
  {
   "cell_type": "code",
   "execution_count": 3,
   "metadata": {},
   "outputs": [],
   "source": [
    "business_df = pd.read_csv('yelp_business.csv')"
   ]
  },
  {
   "cell_type": "code",
   "execution_count": 17,
   "metadata": {},
   "outputs": [],
   "source": [
    "columns= ['name', 'id', 'text']\n",
    "\n",
    "review_df = pd.DataFrame([[np.nan, np.nan, np.nan]], columns=columns)\n",
    "for i in range(len(business_df['id'])):\n",
    "    id = business_df['id'][i]\n",
    "    name = business_df['name'][i]\n",
    "    \n",
    "    url = 'https://api.yelp.com/v3/businesses/{}/reviews'.format(id)\n",
    "    req = requests.get(url, headers=headers)\n",
    "    parsed = json.loads(req.text)\n",
    "    reviews = parsed[\"reviews\"]\n",
    "    \n",
    "    if (req.status_code == 200):\n",
    "        for j in range(len(reviews)):\n",
    "            temp = []\n",
    "            \n",
    "            temp.append(business_df['name'][i])\n",
    "            temp.append(business_df['id'][i])\n",
    "            temp.append(reviews[j]['text'])\n",
    "            \n",
    "            temp_df = pd.DataFrame([temp], columns=columns)\n",
    "            review_df = pd.concat([review_df, temp_df])\n",
    "            "
   ]
  },
  {
   "cell_type": "code",
   "execution_count": 18,
   "metadata": {},
   "outputs": [
    {
     "data": {
      "text/html": [
       "<div>\n",
       "<style scoped>\n",
       "    .dataframe tbody tr th:only-of-type {\n",
       "        vertical-align: middle;\n",
       "    }\n",
       "\n",
       "    .dataframe tbody tr th {\n",
       "        vertical-align: top;\n",
       "    }\n",
       "\n",
       "    .dataframe thead th {\n",
       "        text-align: right;\n",
       "    }\n",
       "</style>\n",
       "<table border=\"1\" class=\"dataframe\">\n",
       "  <thead>\n",
       "    <tr style=\"text-align: right;\">\n",
       "      <th></th>\n",
       "      <th>name</th>\n",
       "      <th>id</th>\n",
       "      <th>text</th>\n",
       "    </tr>\n",
       "  </thead>\n",
       "  <tbody>\n",
       "    <tr>\n",
       "      <th>0</th>\n",
       "      <td>NaN</td>\n",
       "      <td>NaN</td>\n",
       "      <td>NaN</td>\n",
       "    </tr>\n",
       "    <tr>\n",
       "      <th>0</th>\n",
       "      <td>Rainbow Grocery</td>\n",
       "      <td>5NvXIkNdCCqUb235WVfMJg</td>\n",
       "      <td>Love love this co-op grocery store! My mom bou...</td>\n",
       "    </tr>\n",
       "    <tr>\n",
       "      <th>0</th>\n",
       "      <td>Rainbow Grocery</td>\n",
       "      <td>5NvXIkNdCCqUb235WVfMJg</td>\n",
       "      <td>The produce and selection of products they hav...</td>\n",
       "    </tr>\n",
       "    <tr>\n",
       "      <th>0</th>\n",
       "      <td>Rainbow Grocery</td>\n",
       "      <td>5NvXIkNdCCqUb235WVfMJg</td>\n",
       "      <td>This Grocery Store is Vegan and Gluten Free He...</td>\n",
       "    </tr>\n",
       "    <tr>\n",
       "      <th>0</th>\n",
       "      <td>Parada 22</td>\n",
       "      <td>TlBFKt2N2eSEBpN-UZmDBw</td>\n",
       "      <td>#pastelon\\nSweet #plantains layered dpicadillo...</td>\n",
       "    </tr>\n",
       "  </tbody>\n",
       "</table>\n",
       "</div>"
      ],
      "text/plain": [
       "              name                      id  \\\n",
       "0              NaN                     NaN   \n",
       "0  Rainbow Grocery  5NvXIkNdCCqUb235WVfMJg   \n",
       "0  Rainbow Grocery  5NvXIkNdCCqUb235WVfMJg   \n",
       "0  Rainbow Grocery  5NvXIkNdCCqUb235WVfMJg   \n",
       "0        Parada 22  TlBFKt2N2eSEBpN-UZmDBw   \n",
       "\n",
       "                                                text  \n",
       "0                                                NaN  \n",
       "0  Love love this co-op grocery store! My mom bou...  \n",
       "0  The produce and selection of products they hav...  \n",
       "0  This Grocery Store is Vegan and Gluten Free He...  \n",
       "0  #pastelon\\nSweet #plantains layered dpicadillo...  "
      ]
     },
     "execution_count": 18,
     "metadata": {},
     "output_type": "execute_result"
    }
   ],
   "source": [
    "review_df.head()"
   ]
  },
  {
   "cell_type": "markdown",
   "metadata": {},
   "source": [
    "Save these as a new csv."
   ]
  },
  {
   "cell_type": "code",
   "execution_count": 19,
   "metadata": {},
   "outputs": [],
   "source": [
    "review_df.to_csv('reviews.csv', index=False)"
   ]
  },
  {
   "cell_type": "code",
   "execution_count": null,
   "metadata": {},
   "outputs": [],
   "source": [
    "text_review_df.to_csv('text_reviews.csv', index=False)"
   ]
  }
 ],
 "metadata": {
  "kernelspec": {
   "display_name": "Python 3",
   "language": "python",
   "name": "python3"
  },
  "language_info": {
   "codemirror_mode": {
    "name": "ipython",
    "version": 3
   },
   "file_extension": ".py",
   "mimetype": "text/x-python",
   "name": "python",
   "nbconvert_exporter": "python",
   "pygments_lexer": "ipython3",
   "version": "3.7.4"
  }
 },
 "nbformat": 4,
 "nbformat_minor": 2
}
