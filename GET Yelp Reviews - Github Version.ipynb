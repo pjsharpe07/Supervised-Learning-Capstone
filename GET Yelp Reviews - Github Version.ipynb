{
 "cells": [
  {
   "cell_type": "markdown",
   "metadata": {},
   "source": [
    "### Yelp data via their API\n",
    "\n",
    "This data was collected from the yelp fusion api. You can find more information and how to do this yourself [here](https://www.yelp.com/developers/documentation/v3)\n",
    "\n",
    "I followed [this great tutorial](https://python.gotrained.com/yelp-fusion-api-tutorial/). Good luck!"
   ]
  },
  {
   "cell_type": "code",
   "execution_count": 2,
   "metadata": {},
   "outputs": [],
   "source": [
    "#for scraping\n",
    "import requests\n",
    "import json\n",
    "\n",
    "#for tabular data\n",
    "import pandas as pd\n",
    "import numpy as np"
   ]
  },
  {
   "cell_type": "markdown",
   "metadata": {},
   "source": [
    "Please note! The cell below has the api_key and headers information. This is not a part of this particular notebook so as to protect the yelp api key used.\n",
    "\n",
    "Obtaining your own API key is relatively simple, I recommend following the tutorial mentioned above."
   ]
  },
  {
   "cell_type": "code",
   "execution_count": 1,
   "metadata": {},
   "outputs": [
    {
     "ename": "NameError",
     "evalue": "name 'pd' is not defined",
     "output_type": "error",
     "traceback": [
      "\u001b[1;31m---------------------------------------------------------------------------\u001b[0m",
      "\u001b[1;31mNameError\u001b[0m                                 Traceback (most recent call last)",
      "\u001b[1;32m<ipython-input-1-7bf8f381de3d>\u001b[0m in \u001b[0;36m<module>\u001b[1;34m\u001b[0m\n\u001b[1;32m----> 1\u001b[1;33m \u001b[0mdf\u001b[0m \u001b[1;33m=\u001b[0m \u001b[0mpd\u001b[0m\u001b[1;33m.\u001b[0m\u001b[0mread_csv\u001b[0m\u001b[1;33m(\u001b[0m\u001b[1;34m'restaurant-scores-lives-standard.csv'\u001b[0m\u001b[1;33m)\u001b[0m\u001b[1;33m\u001b[0m\u001b[1;33m\u001b[0m\u001b[0m\n\u001b[0m\u001b[0;32m      2\u001b[0m \u001b[0mdf\u001b[0m \u001b[1;33m=\u001b[0m \u001b[0mdf\u001b[0m\u001b[1;33m.\u001b[0m\u001b[0mdrop\u001b[0m\u001b[1;33m(\u001b[0m\u001b[0mcolumns\u001b[0m\u001b[1;33m=\u001b[0m\u001b[1;33m[\u001b[0m\u001b[1;34m'business_id'\u001b[0m\u001b[1;33m,\u001b[0m \u001b[1;34m'business_phone_number'\u001b[0m\u001b[1;33m,\u001b[0m \u001b[1;34m'business_city'\u001b[0m\u001b[1;33m,\u001b[0m \u001b[1;34m'business_state'\u001b[0m\u001b[1;33m,\u001b[0m \u001b[1;34m'business_location'\u001b[0m\u001b[1;33m,\u001b[0m \u001b[1;34m'inspection_id'\u001b[0m\u001b[1;33m]\u001b[0m\u001b[1;33m)\u001b[0m\u001b[1;33m\u001b[0m\u001b[1;33m\u001b[0m\u001b[0m\n",
      "\u001b[1;31mNameError\u001b[0m: name 'pd' is not defined"
     ]
    }
   ],
   "source": [
    "df = pd.read_csv('restaurant-scores-lives-standard.csv')\n",
    "df = df.drop(columns=['business_id', 'business_phone_number', 'business_city', 'business_state', 'business_location', 'inspection_id'])\n"
   ]
  },
  {
   "cell_type": "code",
   "execution_count": 4,
   "metadata": {},
   "outputs": [
    {
     "data": {
      "text/plain": [
       "(53732, 17)"
      ]
     },
     "execution_count": 4,
     "metadata": {},
     "output_type": "execute_result"
    }
   ],
   "source": [
    "df.shape"
   ]
  },
  {
   "cell_type": "code",
   "execution_count": 5,
   "metadata": {},
   "outputs": [],
   "source": [
    "df.dropna(inplace=True)"
   ]
  },
  {
   "cell_type": "code",
   "execution_count": 6,
   "metadata": {},
   "outputs": [
    {
     "data": {
      "text/plain": [
       "(21443, 17)"
      ]
     },
     "execution_count": 6,
     "metadata": {},
     "output_type": "execute_result"
    }
   ],
   "source": [
    "df.shape"
   ]
  },
  {
   "cell_type": "code",
   "execution_count": 7,
   "metadata": {},
   "outputs": [],
   "source": [
    "business_names = df.business_name.unique().tolist()"
   ]
  },
  {
   "cell_type": "markdown",
   "metadata": {},
   "source": [
    "### Api request to create our businesses df"
   ]
  },
  {
   "cell_type": "code",
   "execution_count": 25,
   "metadata": {
    "scrolled": false
   },
   "outputs": [],
   "source": [
    "url = 'https://api.yelp.com/v3/businesses/search'\n",
    "columns=['name', 'id', 'rating', 'price']\n",
    "#set up a first dud row\n",
    "business_df = pd.DataFrame([[np.nan, np.nan, np.nan, np.nan]], columns=columns)\n",
    "\n",
    "for name in business_names:\n",
    "    #get our parameters for each value\n",
    "    location = df.loc[df.business_name == name]['business_address'].reset_index()['business_address'][0]\n",
    "    latitude = df.loc[df.business_name == name]['business_latitude'].reset_index()['business_latitude'][0]\n",
    "    longitude = df.loc[df.business_name == name]['business_longitude'].reset_index()['business_longitude'][0]\n",
    "    #set up our calls\n",
    "    params = {'term' : name, 'location' : location, 'latitude' : latitude, 'longitude' : longitude}\n",
    "    \n",
    "    req = requests.get(url, params=params, headers=headers)\n",
    "    #send our request\n",
    "    #we will add each  new entry to temp, then add it to our running df\n",
    "    temp = []\n",
    "    if (req.status_code == 200):\n",
    "        parsed = json.loads(req.text)\n",
    "        businesses = parsed['businesses']\n",
    "        #append the values\n",
    "        try:\n",
    "            temp.append(businesses[0]['name'])\n",
    "        except:\n",
    "            temp.append(np.nan)\n",
    "        try:\n",
    "            temp.append(businesses[0]['id'])\n",
    "        except:\n",
    "            temp.append(np.nan)\n",
    "        try:\n",
    "            temp.append(businesses[0]['rating'])\n",
    "        except:\n",
    "            temp.append(np.nan)\n",
    "        try:\n",
    "            temp.append(businesses[0]['price'])\n",
    "        except:\n",
    "            temp.append(np.nan)\n",
    "    \n",
    "    #add to our running df\n",
    "    try:\n",
    "        temp_df = pd.DataFrame([temp], columns=columns)\n",
    "    except:\n",
    "        temp = [np.nan. np.nan, np.nan, np.nan]\n",
    "        temp_df = pd.DataFrame([temp], columns=columns)\n",
    "        \n",
    "    business_df = pd.concat([business_df, temp_df])"
   ]
  },
  {
   "cell_type": "code",
   "execution_count": 26,
   "metadata": {},
   "outputs": [
    {
     "data": {
      "text/html": [
       "<div>\n",
       "<style scoped>\n",
       "    .dataframe tbody tr th:only-of-type {\n",
       "        vertical-align: middle;\n",
       "    }\n",
       "\n",
       "    .dataframe tbody tr th {\n",
       "        vertical-align: top;\n",
       "    }\n",
       "\n",
       "    .dataframe thead th {\n",
       "        text-align: right;\n",
       "    }\n",
       "</style>\n",
       "<table border=\"1\" class=\"dataframe\">\n",
       "  <thead>\n",
       "    <tr style=\"text-align: right;\">\n",
       "      <th></th>\n",
       "      <th>name</th>\n",
       "      <th>id</th>\n",
       "      <th>rating</th>\n",
       "      <th>price</th>\n",
       "    </tr>\n",
       "  </thead>\n",
       "  <tbody>\n",
       "    <tr>\n",
       "      <th>0</th>\n",
       "      <td>NaN</td>\n",
       "      <td>NaN</td>\n",
       "      <td>NaN</td>\n",
       "      <td>NaN</td>\n",
       "    </tr>\n",
       "    <tr>\n",
       "      <th>0</th>\n",
       "      <td>Rainbow Grocery</td>\n",
       "      <td>5NvXIkNdCCqUb235WVfMJg</td>\n",
       "      <td>4.0</td>\n",
       "      <td>$$</td>\n",
       "    </tr>\n",
       "    <tr>\n",
       "      <th>0</th>\n",
       "      <td>Parada 22</td>\n",
       "      <td>TlBFKt2N2eSEBpN-UZmDBw</td>\n",
       "      <td>4.0</td>\n",
       "      <td>$$</td>\n",
       "    </tr>\n",
       "    <tr>\n",
       "      <th>0</th>\n",
       "      <td>Newtree</td>\n",
       "      <td>thrAX79eegx1Of82TCJhrA</td>\n",
       "      <td>4.0</td>\n",
       "      <td>$$</td>\n",
       "    </tr>\n",
       "    <tr>\n",
       "      <th>0</th>\n",
       "      <td>Starbucks</td>\n",
       "      <td>C36BK5luxi-8apVMMhsizQ</td>\n",
       "      <td>3.5</td>\n",
       "      <td>$</td>\n",
       "    </tr>\n",
       "    <tr>\n",
       "      <th>0</th>\n",
       "      <td>Dojima-Ann</td>\n",
       "      <td>cseyjQ0XIp6dwC0_TcaMOg</td>\n",
       "      <td>3.5</td>\n",
       "      <td>$$</td>\n",
       "    </tr>\n",
       "    <tr>\n",
       "      <th>0</th>\n",
       "      <td>Piccino</td>\n",
       "      <td>i2VhtC1JkV_sZOA4urd1ng</td>\n",
       "      <td>4.0</td>\n",
       "      <td>$$</td>\n",
       "    </tr>\n",
       "    <tr>\n",
       "      <th>0</th>\n",
       "      <td>Eric's Restaurant</td>\n",
       "      <td>Ux_bs6eZ7WqIsLepTw1uBw</td>\n",
       "      <td>3.5</td>\n",
       "      <td>$$</td>\n",
       "    </tr>\n",
       "    <tr>\n",
       "      <th>0</th>\n",
       "      <td>Taiwan Restaurant</td>\n",
       "      <td>eu3UCrfFkTF73F0idXeJ5Q</td>\n",
       "      <td>3.5</td>\n",
       "      <td>$$</td>\n",
       "    </tr>\n",
       "    <tr>\n",
       "      <th>0</th>\n",
       "      <td>Java Beach at the Zoo</td>\n",
       "      <td>iRmdKzcbdFLIp3s9e4xrHA</td>\n",
       "      <td>4.0</td>\n",
       "      <td>$</td>\n",
       "    </tr>\n",
       "  </tbody>\n",
       "</table>\n",
       "</div>"
      ],
      "text/plain": [
       "                    name                      id  rating price\n",
       "0                    NaN                     NaN     NaN   NaN\n",
       "0        Rainbow Grocery  5NvXIkNdCCqUb235WVfMJg     4.0    $$\n",
       "0              Parada 22  TlBFKt2N2eSEBpN-UZmDBw     4.0    $$\n",
       "0                Newtree  thrAX79eegx1Of82TCJhrA     4.0    $$\n",
       "0              Starbucks  C36BK5luxi-8apVMMhsizQ     3.5     $\n",
       "0             Dojima-Ann  cseyjQ0XIp6dwC0_TcaMOg     3.5    $$\n",
       "0                Piccino  i2VhtC1JkV_sZOA4urd1ng     4.0    $$\n",
       "0      Eric's Restaurant  Ux_bs6eZ7WqIsLepTw1uBw     3.5    $$\n",
       "0      Taiwan Restaurant  eu3UCrfFkTF73F0idXeJ5Q     3.5    $$\n",
       "0  Java Beach at the Zoo  iRmdKzcbdFLIp3s9e4xrHA     4.0     $"
      ]
     },
     "execution_count": 26,
     "metadata": {},
     "output_type": "execute_result"
    }
   ],
   "source": [
    "business_df.head(10)"
   ]
  },
  {
   "cell_type": "markdown",
   "metadata": {},
   "source": [
    "# Here it is!"
   ]
  },
  {
   "cell_type": "code",
   "execution_count": 27,
   "metadata": {},
   "outputs": [],
   "source": [
    "business_df.to_csv('businesses.csv', index=False)"
   ]
  },
  {
   "cell_type": "markdown",
   "metadata": {},
   "source": [
    "## Only this call!"
   ]
  },
  {
   "cell_type": "code",
   "execution_count": 5,
   "metadata": {},
   "outputs": [],
   "source": [
    "business_df = pd.read_csv('businesses.csv')"
   ]
  },
  {
   "cell_type": "code",
   "execution_count": 6,
   "metadata": {},
   "outputs": [],
   "source": [
    "business_df.dropna(how='all', inplace=True)"
   ]
  },
  {
   "cell_type": "markdown",
   "metadata": {},
   "source": [
    "## Start getting our reviews!"
   ]
  },
  {
   "cell_type": "code",
   "execution_count": 11,
   "metadata": {},
   "outputs": [],
   "source": [
    "#package for gleaning some analysis\n",
    "from textblob import TextBlob\n",
    "business_ids = business_df['id'].tolist()"
   ]
  },
  {
   "cell_type": "code",
   "execution_count": 12,
   "metadata": {},
   "outputs": [],
   "source": [
    "#lists to append to our business_df\n",
    "average_rating = []\n",
    "average_sentiment = []\n",
    "\n",
    "review_ids = []\n",
    "review_text = []\n",
    "\n",
    "#now time to get some reviews!\n",
    "for id in business_ids:\n",
    "    #lists to average and append\n",
    "    ratings = []\n",
    "    sentiment = []\n",
    "    \n",
    "    #make request and parse data\n",
    "    url = 'https://api.yelp.com/v3/businesses/{}/reviews'.format(id)\n",
    "    req = requests.get(url, headers=headers)\n",
    "    parsed = json.loads(req.text)\n",
    "    reviews = parsed[\"reviews\"]\n",
    "    \n",
    "    #check if our request is good, then loop through reviews\n",
    "    if (req.status_code == 200):\n",
    "        for i in range(len(reviews)):\n",
    "            #append ratings and reviews\n",
    "            #try:\n",
    "            ratings.append(reviews[i]['rating'])\n",
    "            #except:\n",
    "                #rating.append(np.nan)\n",
    "            #try:\n",
    "            testimonial = TextBlob(reviews[i]['text'])\n",
    "            sentiment.append(testimonial.sentiment.polarity)\n",
    "                #for our other dataset\n",
    "            review_ids.append(reviews[i]['id'])\n",
    "            review_text.append(reviews[i]['text'])\n",
    "            #except:\n",
    "                #sentiment.append(np.nan)\n",
    "            \n",
    "    #add our averages to our lists\n",
    "    #try:\n",
    "    average_rating.append(sum(ratings) / len(ratings))\n",
    "    #except:\n",
    "        #average_rating.append(np.nan)\n",
    "    #try:\n",
    "    average_sentiment.append(sum(sentiment) / len(sentiment))\n",
    "    #except:\n",
    "        #average_sentiment.append(np.nan)"
   ]
  },
  {
   "cell_type": "code",
   "execution_count": 13,
   "metadata": {},
   "outputs": [],
   "source": [
    "business_df['review_rating'] = average_rating\n",
    "business_df['review_sentiment'] = average_sentiment"
   ]
  },
  {
   "cell_type": "code",
   "execution_count": 14,
   "metadata": {},
   "outputs": [],
   "source": [
    "business_df.to_csv('yelp_business.csv', index=False)"
   ]
  },
  {
   "cell_type": "code",
   "execution_count": 15,
   "metadata": {},
   "outputs": [
    {
     "data": {
      "text/html": [
       "<div>\n",
       "<style scoped>\n",
       "    .dataframe tbody tr th:only-of-type {\n",
       "        vertical-align: middle;\n",
       "    }\n",
       "\n",
       "    .dataframe tbody tr th {\n",
       "        vertical-align: top;\n",
       "    }\n",
       "\n",
       "    .dataframe thead th {\n",
       "        text-align: right;\n",
       "    }\n",
       "</style>\n",
       "<table border=\"1\" class=\"dataframe\">\n",
       "  <thead>\n",
       "    <tr style=\"text-align: right;\">\n",
       "      <th></th>\n",
       "      <th>name</th>\n",
       "      <th>id</th>\n",
       "      <th>rating</th>\n",
       "      <th>price</th>\n",
       "      <th>review_rating</th>\n",
       "      <th>review_sentiment</th>\n",
       "    </tr>\n",
       "  </thead>\n",
       "  <tbody>\n",
       "    <tr>\n",
       "      <th>1</th>\n",
       "      <td>Rainbow Grocery</td>\n",
       "      <td>5NvXIkNdCCqUb235WVfMJg</td>\n",
       "      <td>4.0</td>\n",
       "      <td>$$</td>\n",
       "      <td>3.666667</td>\n",
       "      <td>0.080208</td>\n",
       "    </tr>\n",
       "    <tr>\n",
       "      <th>2</th>\n",
       "      <td>Parada 22</td>\n",
       "      <td>TlBFKt2N2eSEBpN-UZmDBw</td>\n",
       "      <td>4.0</td>\n",
       "      <td>$$</td>\n",
       "      <td>3.333333</td>\n",
       "      <td>0.106349</td>\n",
       "    </tr>\n",
       "    <tr>\n",
       "      <th>3</th>\n",
       "      <td>Newtree</td>\n",
       "      <td>thrAX79eegx1Of82TCJhrA</td>\n",
       "      <td>4.0</td>\n",
       "      <td>$$</td>\n",
       "      <td>4.666667</td>\n",
       "      <td>0.355787</td>\n",
       "    </tr>\n",
       "    <tr>\n",
       "      <th>4</th>\n",
       "      <td>Starbucks</td>\n",
       "      <td>C36BK5luxi-8apVMMhsizQ</td>\n",
       "      <td>3.5</td>\n",
       "      <td>$</td>\n",
       "      <td>3.000000</td>\n",
       "      <td>0.270310</td>\n",
       "    </tr>\n",
       "    <tr>\n",
       "      <th>5</th>\n",
       "      <td>Dojima-Ann</td>\n",
       "      <td>cseyjQ0XIp6dwC0_TcaMOg</td>\n",
       "      <td>3.5</td>\n",
       "      <td>$$</td>\n",
       "      <td>3.666667</td>\n",
       "      <td>0.021528</td>\n",
       "    </tr>\n",
       "  </tbody>\n",
       "</table>\n",
       "</div>"
      ],
      "text/plain": [
       "              name                      id  rating price  review_rating  \\\n",
       "1  Rainbow Grocery  5NvXIkNdCCqUb235WVfMJg     4.0    $$       3.666667   \n",
       "2        Parada 22  TlBFKt2N2eSEBpN-UZmDBw     4.0    $$       3.333333   \n",
       "3          Newtree  thrAX79eegx1Of82TCJhrA     4.0    $$       4.666667   \n",
       "4        Starbucks  C36BK5luxi-8apVMMhsizQ     3.5     $       3.000000   \n",
       "5       Dojima-Ann  cseyjQ0XIp6dwC0_TcaMOg     3.5    $$       3.666667   \n",
       "\n",
       "   review_sentiment  \n",
       "1          0.080208  \n",
       "2          0.106349  \n",
       "3          0.355787  \n",
       "4          0.270310  \n",
       "5          0.021528  "
      ]
     },
     "execution_count": 15,
     "metadata": {},
     "output_type": "execute_result"
    }
   ],
   "source": [
    "business_df.head()"
   ]
  },
  {
   "cell_type": "markdown",
   "metadata": {},
   "source": [
    "## Build our text review only dataset"
   ]
  },
  {
   "cell_type": "code",
   "execution_count": 9,
   "metadata": {},
   "outputs": [
    {
     "data": {
      "text/plain": [
       "Index(['name', 'id', 'rating', 'price', 'review_rating', 'review_sentiment'], dtype='object')"
      ]
     },
     "execution_count": 9,
     "metadata": {},
     "output_type": "execute_result"
    }
   ],
   "source": [
    "business_df.columns"
   ]
  },
  {
   "cell_type": "code",
   "execution_count": 3,
   "metadata": {},
   "outputs": [],
   "source": [
    "business_df = pd.read_csv('yelp_business.csv')"
   ]
  },
  {
   "cell_type": "code",
   "execution_count": 17,
   "metadata": {},
   "outputs": [],
   "source": [
    "columns= ['name', 'id', 'text']\n",
    "\n",
    "review_df = pd.DataFrame([[np.nan, np.nan, np.nan]], columns=columns)\n",
    "for i in range(len(business_df['id'])):\n",
    "    id = business_df['id'][i]\n",
    "    name = business_df['name'][i]\n",
    "    \n",
    "    url = 'https://api.yelp.com/v3/businesses/{}/reviews'.format(id)\n",
    "    req = requests.get(url, headers=headers)\n",
    "    parsed = json.loads(req.text)\n",
    "    reviews = parsed[\"reviews\"]\n",
    "    \n",
    "    if (req.status_code == 200):\n",
    "        for j in range(len(reviews)):\n",
    "            temp = []\n",
    "            \n",
    "            temp.append(business_df['name'][i])\n",
    "            temp.append(business_df['id'][i])\n",
    "            temp.append(reviews[j]['text'])\n",
    "            \n",
    "            temp_df = pd.DataFrame([temp], columns=columns)\n",
    "            review_df = pd.concat([review_df, temp_df])\n",
    "            "
   ]
  },
  {
   "cell_type": "code",
   "execution_count": 18,
   "metadata": {},
   "outputs": [
    {
     "data": {
      "text/html": [
       "<div>\n",
       "<style scoped>\n",
       "    .dataframe tbody tr th:only-of-type {\n",
       "        vertical-align: middle;\n",
       "    }\n",
       "\n",
       "    .dataframe tbody tr th {\n",
       "        vertical-align: top;\n",
       "    }\n",
       "\n",
       "    .dataframe thead th {\n",
       "        text-align: right;\n",
       "    }\n",
       "</style>\n",
       "<table border=\"1\" class=\"dataframe\">\n",
       "  <thead>\n",
       "    <tr style=\"text-align: right;\">\n",
       "      <th></th>\n",
       "      <th>name</th>\n",
       "      <th>id</th>\n",
       "      <th>text</th>\n",
       "    </tr>\n",
       "  </thead>\n",
       "  <tbody>\n",
       "    <tr>\n",
       "      <th>0</th>\n",
       "      <td>NaN</td>\n",
       "      <td>NaN</td>\n",
       "      <td>NaN</td>\n",
       "    </tr>\n",
       "    <tr>\n",
       "      <th>0</th>\n",
       "      <td>Rainbow Grocery</td>\n",
       "      <td>5NvXIkNdCCqUb235WVfMJg</td>\n",
       "      <td>Love love this co-op grocery store! My mom bou...</td>\n",
       "    </tr>\n",
       "    <tr>\n",
       "      <th>0</th>\n",
       "      <td>Rainbow Grocery</td>\n",
       "      <td>5NvXIkNdCCqUb235WVfMJg</td>\n",
       "      <td>The produce and selection of products they hav...</td>\n",
       "    </tr>\n",
       "    <tr>\n",
       "      <th>0</th>\n",
       "      <td>Rainbow Grocery</td>\n",
       "      <td>5NvXIkNdCCqUb235WVfMJg</td>\n",
       "      <td>This Grocery Store is Vegan and Gluten Free He...</td>\n",
       "    </tr>\n",
       "    <tr>\n",
       "      <th>0</th>\n",
       "      <td>Parada 22</td>\n",
       "      <td>TlBFKt2N2eSEBpN-UZmDBw</td>\n",
       "      <td>#pastelon\\nSweet #plantains layered dpicadillo...</td>\n",
       "    </tr>\n",
       "  </tbody>\n",
       "</table>\n",
       "</div>"
      ],
      "text/plain": [
       "              name                      id  \\\n",
       "0              NaN                     NaN   \n",
       "0  Rainbow Grocery  5NvXIkNdCCqUb235WVfMJg   \n",
       "0  Rainbow Grocery  5NvXIkNdCCqUb235WVfMJg   \n",
       "0  Rainbow Grocery  5NvXIkNdCCqUb235WVfMJg   \n",
       "0        Parada 22  TlBFKt2N2eSEBpN-UZmDBw   \n",
       "\n",
       "                                                text  \n",
       "0                                                NaN  \n",
       "0  Love love this co-op grocery store! My mom bou...  \n",
       "0  The produce and selection of products they hav...  \n",
       "0  This Grocery Store is Vegan and Gluten Free He...  \n",
       "0  #pastelon\\nSweet #plantains layered dpicadillo...  "
      ]
     },
     "execution_count": 18,
     "metadata": {},
     "output_type": "execute_result"
    }
   ],
   "source": [
    "review_df.head()"
   ]
  },
  {
   "cell_type": "code",
   "execution_count": 19,
   "metadata": {},
   "outputs": [],
   "source": [
    "review_df.to_csv('reviews.csv', index=False)"
   ]
  },
  {
   "cell_type": "markdown",
   "metadata": {},
   "source": [
    "# Perform a merge to pull in the business_names into our text_review_df"
   ]
  },
  {
   "cell_type": "code",
   "execution_count": null,
   "metadata": {},
   "outputs": [],
   "source": [
    "text_review_df.to_csv('text_reviews.csv', index=False)"
   ]
  }
 ],
 "metadata": {
  "kernelspec": {
   "display_name": "Python 3",
   "language": "python",
   "name": "python3"
  },
  "language_info": {
   "codemirror_mode": {
    "name": "ipython",
    "version": 3
   },
   "file_extension": ".py",
   "mimetype": "text/x-python",
   "name": "python",
   "nbconvert_exporter": "python",
   "pygments_lexer": "ipython3",
   "version": "3.7.3"
  }
 },
 "nbformat": 4,
 "nbformat_minor": 2
}
